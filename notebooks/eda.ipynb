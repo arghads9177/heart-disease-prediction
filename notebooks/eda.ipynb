{
 "cells": [
  {
   "cell_type": "markdown",
   "id": "1ea75e17-e7c1-443e-b81d-c31fb796e89a",
   "metadata": {},
   "source": [
    "# Heart Disease Stage Prediction Project  \n",
    "\n",
    "## Project Overview  \n",
    "The **Heart Disease Stage Prediction Project** focuses on predicting the presence and stages of heart disease based on patient data. Using machine learning models and exploratory data analysis, this project aims to identify key factors contributing to heart disease, assist in early diagnosis, and provide actionable insights for healthcare providers.  \n",
    "\n",
    "---\n",
    "\n",
    "## Context  \n",
    "This dataset is a **multivariate dataset**, meaning it involves various mathematical or statistical variables. It contains 14 primary attributes out of 76 available ones, which have been widely used in machine learning research.  \n",
    "The **Cleveland database** is the most commonly utilized subset for heart disease prediction tasks.  \n",
    "\n",
    "The main goals of this project are:  \n",
    "1. To predict whether a person has heart disease based on given attributes.  \n",
    "2. To analyze the dataset for insights that could improve understanding and early detection of heart disease.  \n",
    "\n",
    "---\n",
    "\n",
    "## Data Source\n",
    "\n",
    "This dataset is available on Kaggle in the following link:\n",
    "> https://www.kaggle.com/datasets/redwankarimsony/heart-disease-data/data\n",
    "\n",
    "## About the Dataset  \n",
    "\n",
    "### Column Descriptions  \n",
    "\n",
    "| Column     | Description                                                                                       |\n",
    "|------------|---------------------------------------------------------------------------------------------------|\n",
    "| `id`       | Unique identifier for each patient.                                                              |\n",
    "| `age`      | Age of the patient in years.                                                                      |\n",
    "| `origin`   | Place of study where data was collected.                                                          |\n",
    "| `sex`      | Gender of the patient (`Male`/`Female`).                                                          |\n",
    "| `cp`       | Chest pain type (`typical angina`, `atypical angina`, `non-anginal`, `asymptomatic`).              |\n",
    "| `trestbps` | Resting blood pressure (in mm Hg on admission to the hospital).                                   |\n",
    "| `chol`     | Serum cholesterol level in mg/dl.                                                                 |\n",
    "| `fbs`      | Fasting blood sugar (`True` if >120 mg/dl, else `False`).                                          |\n",
    "| `restecg`  | Resting electrocardiographic results (`normal`, `st-t abnormality`, `lv hypertrophy`).            |\n",
    "| `thalach`  | Maximum heart rate achieved during exercise.                                                      |\n",
    "| `exang`    | Exercise-induced angina (`True`/`False`).                                                         |\n",
    "| `oldpeak`  | ST depression induced by exercise relative to rest.                                               |\n",
    "| `slope`    | Slope of the peak exercise ST segment.                                                            |\n",
    "| `ca`       | Number of major vessels (0-3) colored by fluoroscopy.                                             |\n",
    "| `thal`     | Results of the thalassemia test (`normal`, `fixed defect`, `reversible defect`).                  |\n",
    "| `num`      | Predicted attribute (`0` = no heart disease; `1, 2, 3, 4` = stages of heart disease).             |\n",
    "\n",
    "---\n",
    "\n",
    "## Problem Statement\n",
    "   - **Exploratory Data Analysis (EDA):** Perform statistical analysis and visualize data distributions, trends, and relationships to understand the data and find patterns present in the data which helps to predict the stages of heart disease.  \n",
    "   - **Data Assessment:** Identify missing values, outliers, and inconsistencies.\n",
    "   - **Data Cleaning:** Clean the data by dropping the duplicate data and imputing the missing values."
   ]
  },
  {
   "cell_type": "markdown",
   "id": "537b35eb-dbc5-4994-b544-d049552e5ee7",
   "metadata": {},
   "source": [
    "### Import Libraries"
   ]
  },
  {
   "cell_type": "code",
   "execution_count": 1,
   "id": "363640c3-8ce2-4dc6-9b2b-968cec543a22",
   "metadata": {},
   "outputs": [],
   "source": [
    "import pandas as pd\n",
    "import numpy as np\n",
    "import matplotlib.pyplot as plt\n",
    "import seaborn as sns\n",
    "import warnings\n",
    "import os\n",
    "\n",
    "# Missing value imputation \n",
    "from sklearn.experimental import enable_iterative_imputer  # Required to use IterativeImputer\n",
    "from sklearn.impute import IterativeImputer\n",
    "from sklearn.ensemble import RandomForestRegressor\n",
    "from sklearn.preprocessing import LabelEncoder"
   ]
  },
  {
   "cell_type": "markdown",
   "id": "36a11ceb-5955-4c14-8ad0-c66073d19703",
   "metadata": {},
   "source": [
    "### Settings"
   ]
  },
  {
   "cell_type": "code",
   "execution_count": 2,
   "id": "0aab69d9-492b-41ae-8b57-e0cbb8c79420",
   "metadata": {},
   "outputs": [],
   "source": [
    "# warnings\n",
    "warnings.filterwarnings(\"ignore\")\n",
    "\n",
    "# Plot\n",
    "sns.set_style(\"darkgrid\")\n",
    "\n",
    "# DataFrame\n",
    "pd.set_option(\"display.max_columns\", None)\n",
    "\n",
    "# Data\n",
    "data_path = \"../data\"\n",
    "csv_path = os.path.join(data_path, \"heart_disease_uci.csv\")"
   ]
  },
  {
   "cell_type": "markdown",
   "id": "90468acf-2497-4b9b-82ab-ea496dd2be08",
   "metadata": {},
   "source": [
    "### Load Data and Explore"
   ]
  },
  {
   "cell_type": "code",
   "execution_count": 3,
   "id": "17600b97-fdeb-4d26-861e-baed66406cf2",
   "metadata": {},
   "outputs": [],
   "source": [
    "# Load data\n",
    "df = pd.read_csv(csv_path)"
   ]
  },
  {
   "cell_type": "code",
   "execution_count": 4,
   "id": "85f607a3-c995-43a3-abea-6aedca34423b",
   "metadata": {},
   "outputs": [
    {
     "data": {
      "text/html": [
       "<div>\n",
       "<style scoped>\n",
       "    .dataframe tbody tr th:only-of-type {\n",
       "        vertical-align: middle;\n",
       "    }\n",
       "\n",
       "    .dataframe tbody tr th {\n",
       "        vertical-align: top;\n",
       "    }\n",
       "\n",
       "    .dataframe thead th {\n",
       "        text-align: right;\n",
       "    }\n",
       "</style>\n",
       "<table border=\"1\" class=\"dataframe\">\n",
       "  <thead>\n",
       "    <tr style=\"text-align: right;\">\n",
       "      <th></th>\n",
       "      <th>id</th>\n",
       "      <th>age</th>\n",
       "      <th>sex</th>\n",
       "      <th>dataset</th>\n",
       "      <th>cp</th>\n",
       "      <th>trestbps</th>\n",
       "      <th>chol</th>\n",
       "      <th>fbs</th>\n",
       "      <th>restecg</th>\n",
       "      <th>thalch</th>\n",
       "      <th>exang</th>\n",
       "      <th>oldpeak</th>\n",
       "      <th>slope</th>\n",
       "      <th>ca</th>\n",
       "      <th>thal</th>\n",
       "      <th>num</th>\n",
       "    </tr>\n",
       "  </thead>\n",
       "  <tbody>\n",
       "    <tr>\n",
       "      <th>0</th>\n",
       "      <td>1</td>\n",
       "      <td>63</td>\n",
       "      <td>Male</td>\n",
       "      <td>Cleveland</td>\n",
       "      <td>typical angina</td>\n",
       "      <td>145.0</td>\n",
       "      <td>233.0</td>\n",
       "      <td>True</td>\n",
       "      <td>lv hypertrophy</td>\n",
       "      <td>150.0</td>\n",
       "      <td>False</td>\n",
       "      <td>2.3</td>\n",
       "      <td>downsloping</td>\n",
       "      <td>0.0</td>\n",
       "      <td>fixed defect</td>\n",
       "      <td>0</td>\n",
       "    </tr>\n",
       "    <tr>\n",
       "      <th>1</th>\n",
       "      <td>2</td>\n",
       "      <td>67</td>\n",
       "      <td>Male</td>\n",
       "      <td>Cleveland</td>\n",
       "      <td>asymptomatic</td>\n",
       "      <td>160.0</td>\n",
       "      <td>286.0</td>\n",
       "      <td>False</td>\n",
       "      <td>lv hypertrophy</td>\n",
       "      <td>108.0</td>\n",
       "      <td>True</td>\n",
       "      <td>1.5</td>\n",
       "      <td>flat</td>\n",
       "      <td>3.0</td>\n",
       "      <td>normal</td>\n",
       "      <td>2</td>\n",
       "    </tr>\n",
       "    <tr>\n",
       "      <th>2</th>\n",
       "      <td>3</td>\n",
       "      <td>67</td>\n",
       "      <td>Male</td>\n",
       "      <td>Cleveland</td>\n",
       "      <td>asymptomatic</td>\n",
       "      <td>120.0</td>\n",
       "      <td>229.0</td>\n",
       "      <td>False</td>\n",
       "      <td>lv hypertrophy</td>\n",
       "      <td>129.0</td>\n",
       "      <td>True</td>\n",
       "      <td>2.6</td>\n",
       "      <td>flat</td>\n",
       "      <td>2.0</td>\n",
       "      <td>reversable defect</td>\n",
       "      <td>1</td>\n",
       "    </tr>\n",
       "    <tr>\n",
       "      <th>3</th>\n",
       "      <td>4</td>\n",
       "      <td>37</td>\n",
       "      <td>Male</td>\n",
       "      <td>Cleveland</td>\n",
       "      <td>non-anginal</td>\n",
       "      <td>130.0</td>\n",
       "      <td>250.0</td>\n",
       "      <td>False</td>\n",
       "      <td>normal</td>\n",
       "      <td>187.0</td>\n",
       "      <td>False</td>\n",
       "      <td>3.5</td>\n",
       "      <td>downsloping</td>\n",
       "      <td>0.0</td>\n",
       "      <td>normal</td>\n",
       "      <td>0</td>\n",
       "    </tr>\n",
       "    <tr>\n",
       "      <th>4</th>\n",
       "      <td>5</td>\n",
       "      <td>41</td>\n",
       "      <td>Female</td>\n",
       "      <td>Cleveland</td>\n",
       "      <td>atypical angina</td>\n",
       "      <td>130.0</td>\n",
       "      <td>204.0</td>\n",
       "      <td>False</td>\n",
       "      <td>lv hypertrophy</td>\n",
       "      <td>172.0</td>\n",
       "      <td>False</td>\n",
       "      <td>1.4</td>\n",
       "      <td>upsloping</td>\n",
       "      <td>0.0</td>\n",
       "      <td>normal</td>\n",
       "      <td>0</td>\n",
       "    </tr>\n",
       "  </tbody>\n",
       "</table>\n",
       "</div>"
      ],
      "text/plain": [
       "   id  age     sex    dataset               cp  trestbps   chol    fbs  \\\n",
       "0   1   63    Male  Cleveland   typical angina     145.0  233.0   True   \n",
       "1   2   67    Male  Cleveland     asymptomatic     160.0  286.0  False   \n",
       "2   3   67    Male  Cleveland     asymptomatic     120.0  229.0  False   \n",
       "3   4   37    Male  Cleveland      non-anginal     130.0  250.0  False   \n",
       "4   5   41  Female  Cleveland  atypical angina     130.0  204.0  False   \n",
       "\n",
       "          restecg  thalch  exang  oldpeak        slope   ca  \\\n",
       "0  lv hypertrophy   150.0  False      2.3  downsloping  0.0   \n",
       "1  lv hypertrophy   108.0   True      1.5         flat  3.0   \n",
       "2  lv hypertrophy   129.0   True      2.6         flat  2.0   \n",
       "3          normal   187.0  False      3.5  downsloping  0.0   \n",
       "4  lv hypertrophy   172.0  False      1.4    upsloping  0.0   \n",
       "\n",
       "                thal  num  \n",
       "0       fixed defect    0  \n",
       "1             normal    2  \n",
       "2  reversable defect    1  \n",
       "3             normal    0  \n",
       "4             normal    0  "
      ]
     },
     "execution_count": 4,
     "metadata": {},
     "output_type": "execute_result"
    }
   ],
   "source": [
    "# Show 1st 5 rows to get an idea what information stored in each feature\n",
    "df.head()"
   ]
  },
  {
   "cell_type": "code",
   "execution_count": 5,
   "id": "5434990e-4a37-473e-be19-8658808e3227",
   "metadata": {},
   "outputs": [
    {
     "name": "stdout",
     "output_type": "stream",
     "text": [
      "============================================================\n",
      "DATA DESCRIPTION\n",
      "============================================================\n",
      "Number of observations: 920\n",
      "Number of features: 16\n"
     ]
    }
   ],
   "source": [
    "# Data Description\n",
    "def describe_data():\n",
    "    print(\"=\" * 60)\n",
    "    print(\"DATA DESCRIPTION\")\n",
    "    print(\"=\" * 60)\n",
    "    print(f\"Number of observations: {df.shape[0]}\")\n",
    "    print(f\"Number of features: {df.shape[1]}\")\n",
    "\n",
    "describe_data()"
   ]
  },
  {
   "cell_type": "code",
   "execution_count": 6,
   "id": "0cdd25c0-526d-418d-beef-0de0b469fbc7",
   "metadata": {},
   "outputs": [
    {
     "name": "stdout",
     "output_type": "stream",
     "text": [
      "============================================================\n",
      "FEATURE DESCRIPTION\n",
      "============================================================\n",
      "id            int64\n",
      "age           int64\n",
      "sex          object\n",
      "dataset      object\n",
      "cp           object\n",
      "trestbps    float64\n",
      "chol        float64\n",
      "fbs          object\n",
      "restecg      object\n",
      "thalch      float64\n",
      "exang        object\n",
      "oldpeak     float64\n",
      "slope        object\n",
      "ca          float64\n",
      "thal         object\n",
      "num           int64\n",
      "dtype: object\n",
      "------------------------------------------------------------\n",
      "Number of Categorical features: 8\n",
      "['sex', 'dataset', 'cp', 'fbs', 'restecg', 'exang', 'slope', 'thal']\n",
      "------------------------------------------------------------\n",
      "Number of Numerical features: 8\n",
      "['id', 'age', 'trestbps', 'chol', 'thalch', 'oldpeak', 'ca', 'num']\n",
      "------------------------------------------------------------\n",
      "Number of features containing unique values: 1\n",
      "['id']\n"
     ]
    }
   ],
   "source": [
    "# Feature Description\n",
    "def describe_features():\n",
    "    print(\"=\" * 60)\n",
    "    print(\"FEATURE DESCRIPTION\")\n",
    "    print(\"=\" * 60)\n",
    "    print(df.dtypes)\n",
    "\n",
    "    # Get numerical and categorical features\n",
    "    num_cols = [col for col in df.columns if df[col].dtype != \"object\"]\n",
    "    cat_cols = [col for col in df.columns if df[col].dtype == \"object\"]\n",
    "    unique_cols = [col for col in df.columns if df[col].nunique() == df.shape[0]]\n",
    "    print(\"-\" * 60)\n",
    "    print(f\"Number of Categorical features: {len(cat_cols)}\")\n",
    "    print(cat_cols)\n",
    "    print(\"-\" * 60)\n",
    "    print(f\"Number of Numerical features: {len(num_cols)}\")\n",
    "    print(num_cols)\n",
    "    print(\"-\" * 60)\n",
    "    print(f\"Number of features containing unique values: {len(unique_cols)}\")\n",
    "    print(unique_cols)\n",
    "\n",
    "describe_features()"
   ]
  },
  {
   "cell_type": "code",
   "execution_count": 7,
   "id": "454b8655-d107-4561-81e0-52ebd549d504",
   "metadata": {},
   "outputs": [
    {
     "name": "stdout",
     "output_type": "stream",
     "text": [
      "============================================================\n",
      "MISSING VALUE DETECTION\n",
      "============================================================\n",
      "ca          611\n",
      "thal        486\n",
      "slope       309\n",
      "fbs          90\n",
      "oldpeak      62\n",
      "trestbps     59\n",
      "thalch       55\n",
      "exang        55\n",
      "chol         30\n",
      "restecg       2\n",
      "id            0\n",
      "age           0\n",
      "sex           0\n",
      "dataset       0\n",
      "cp            0\n",
      "num           0\n",
      "dtype: int64\n"
     ]
    }
   ],
   "source": [
    "# Missing value Detection\n",
    "def check_missing():\n",
    "    print(\"=\" * 60)\n",
    "    print(\"MISSING VALUE DETECTION\")\n",
    "    print(\"=\" * 60)\n",
    "\n",
    "    if df.isnull().sum().sum() > 0:\n",
    "        print(df.isnull().sum().sort_values(ascending=False))\n",
    "    else:\n",
    "        print(\"No missing value present in any feature\")\n",
    "\n",
    "check_missing()"
   ]
  },
  {
   "cell_type": "code",
   "execution_count": 8,
   "id": "1236ac99-76d3-49d5-87a5-81571539b2d2",
   "metadata": {},
   "outputs": [
    {
     "name": "stdout",
     "output_type": "stream",
     "text": [
      "============================================================\n",
      "DUPLICATE OBSERVATION DETECTION\n",
      "============================================================\n",
      "Number of duplicate observations: 0\n"
     ]
    }
   ],
   "source": [
    "# Duplicate observation detection\n",
    "def check_duplicate():\n",
    "    print(\"=\" * 60)\n",
    "    print(\"DUPLICATE OBSERVATION DETECTION\")\n",
    "    print(\"=\" * 60)\n",
    "    print(f\"Number of duplicate observations: {df.duplicated().sum()}\")\n",
    "\n",
    "check_duplicate()"
   ]
  },
  {
   "cell_type": "markdown",
   "id": "76d491b5-bdd9-424a-9b27-e50734c20715",
   "metadata": {},
   "source": [
    "### Key Findings\n",
    "\n",
    "#### Dataset Overview\n",
    "- **Observations:** The dataset consists of **920 records** of patients.\n",
    "- **Features:**\n",
    "  - **Categorical:** 8 features, including `sex`, `cp`, and `thal`.\n",
    "  - **Numerical:** 8 features, including `age`, `trestbps`, and `chol`.\n",
    "- **Target Variable (`num`):**\n",
    "  - `0`: Indicates no heart disease.\n",
    "  - `1, 2, 3, 4`: Represent different stages of heart disease severity.\n",
    "- **Unique Identifier:** The `id` column is unique for each record and does not contribute to analysis.\n",
    "\n",
    "#### Key Observations\n",
    "1. **Missing Data:**\n",
    "   - Several features have missing values:\n",
    "     - `trestbps` (59), `chol` (30), `fbs` (90), `restecg` (2), `thalch` (55), `exang` (55), `oldpeak` (62), `slope` (309), `ca` (611), `thal` (486).\n",
    "   - Features like `slope`, `ca`, and `thal` have a high percentage of missing values (33.6%, 66.4%, and 52.8%, respectively).\n",
    "   - Handling missing data is critical to ensure model accuracy and reliability.\n",
    "\n",
    "2. **Feature Characteristics:**\n",
    "   - **Categorical Features:** Require encoding for machine learning models.\n",
    "     - Example: `cp` has values like `typical angina` that need transformation into numerical labels.\n",
    "   - **Numerical Features:** Some columns may require scaling (e.g., `chol`, `trestbps`) to improve model performance.\n",
    "\n",
    "#### Recommendations for Data Cleaning\n",
    "1. **Handle Missing Data:**\n",
    "   - Impute missing values for categorical features (`restecg`, `slope`, `ca`, `thal`) using the mode or predictive imputation techniques.\n",
    "   - For numerical features (`trestbps`, `chol`, `thalch`, etc.), use median or advanced imputation methods (e.g., KNN).\n",
    "\n",
    "2. **Encode Categorical Features:**\n",
    "   - Use Label Encoding or One-Hot Encoding based on the type of categorical data.\n",
    "\n",
    "3. **Normalize Numerical Features:**\n",
    "   - Normalize features like `trestbps`, `chol`, and `thalch` using Min-Max Scaling or StandardScaler.\n",
    "\n",
    "4. **Remove Redundant Features:**\n",
    "   - Drop the `id` column as it does not contribute to predictive analysis.\n"
   ]
  },
  {
   "cell_type": "markdown",
   "id": "97d81b9f-15b4-4fbe-a62d-c64b549797b6",
   "metadata": {},
   "source": [
    "### Data Cleaning"
   ]
  },
  {
   "cell_type": "code",
   "execution_count": 9,
   "id": "6f9827c0-edc7-4e16-8d14-d37b36c70c8e",
   "metadata": {},
   "outputs": [],
   "source": [
    "# Drop the 'id' feature\n",
    "df.drop([\"id\", \"dataset\"], axis= 1, inplace= True)"
   ]
  },
  {
   "cell_type": "code",
   "execution_count": 10,
   "id": "24de3404-b313-4fd7-aa27-3a88bc490c9d",
   "metadata": {},
   "outputs": [
    {
     "name": "stdout",
     "output_type": "stream",
     "text": [
      "============================================================\n",
      "FEATURE DESCRIPTION\n",
      "============================================================\n",
      "age           int64\n",
      "sex          object\n",
      "cp           object\n",
      "trestbps    float64\n",
      "chol        float64\n",
      "fbs          object\n",
      "restecg      object\n",
      "thalch      float64\n",
      "exang        object\n",
      "oldpeak     float64\n",
      "slope        object\n",
      "ca          float64\n",
      "thal         object\n",
      "num           int64\n",
      "dtype: object\n",
      "------------------------------------------------------------\n",
      "Number of Categorical features: 7\n",
      "['sex', 'cp', 'fbs', 'restecg', 'exang', 'slope', 'thal']\n",
      "------------------------------------------------------------\n",
      "Number of Numerical features: 7\n",
      "['age', 'trestbps', 'chol', 'thalch', 'oldpeak', 'ca', 'num']\n",
      "------------------------------------------------------------\n",
      "Number of features containing unique values: 0\n",
      "[]\n"
     ]
    }
   ],
   "source": [
    "# Sanity check\n",
    "describe_features()"
   ]
  },
  {
   "cell_type": "code",
   "execution_count": 19,
   "id": "9baa6a23-5e83-4863-ab0f-cc3ae677bef0",
   "metadata": {},
   "outputs": [
    {
     "name": "stdout",
     "output_type": "stream",
     "text": [
      "============================================================\n",
      "MISSING VALUE DETECTION\n",
      "============================================================\n",
      "ca          611\n",
      "thal        486\n",
      "slope       309\n",
      "fbs          90\n",
      "oldpeak      62\n",
      "trestbps     59\n",
      "thalch       55\n",
      "exang        55\n",
      "chol         30\n",
      "age           0\n",
      "sex           0\n",
      "cp            0\n",
      "restecg       0\n",
      "num           0\n",
      "dtype: int64\n"
     ]
    }
   ],
   "source": [
    "# Impute restecg with most present value(mode)\n",
    "df[\"restecg\"] = df[\"restecg\"].fillna(df[\"restecg\"].mode()[0])\n",
    "# Sanity check\n",
    "check_missing()"
   ]
  },
  {
   "cell_type": "code",
   "execution_count": 20,
   "id": "1d4ebe72-73fc-4ea5-9a80-628d3300380b",
   "metadata": {},
   "outputs": [
    {
     "name": "stdout",
     "output_type": "stream",
     "text": [
      "============================================================\n",
      "MISSING VALUE DETECTION\n",
      "============================================================\n",
      "ca          611\n",
      "thal        486\n",
      "slope       309\n",
      "fbs          90\n",
      "oldpeak      62\n",
      "trestbps     59\n",
      "thalch       55\n",
      "exang        55\n",
      "age           0\n",
      "sex           0\n",
      "cp            0\n",
      "chol          0\n",
      "restecg       0\n",
      "num           0\n",
      "dtype: int64\n"
     ]
    }
   ],
   "source": [
    "# Impute chol(cheolestoral level) with median of the feature\n",
    "df[\"chol\"] = df[\"chol\"].fillna(df[\"chol\"].median())\n",
    "# Sanity check\n",
    "check_missing()"
   ]
  },
  {
   "cell_type": "code",
   "execution_count": 21,
   "id": "e25d5072-6707-4de9-a513-57850f2b1fe0",
   "metadata": {},
   "outputs": [
    {
     "name": "stdout",
     "output_type": "stream",
     "text": [
      "============================================================\n",
      "MISSING VALUE DETECTION\n",
      "============================================================\n",
      "ca          611\n",
      "thal        486\n",
      "slope       309\n",
      "fbs          90\n",
      "oldpeak      62\n",
      "trestbps     59\n",
      "thalch       55\n",
      "age           0\n",
      "sex           0\n",
      "cp            0\n",
      "chol          0\n",
      "restecg       0\n",
      "exang         0\n",
      "num           0\n",
      "dtype: int64\n"
     ]
    }
   ],
   "source": [
    "# Impute exang with most present value(mode)\n",
    "df[\"exang\"] = df[\"exang\"].fillna(df[\"exang\"].mode()[0])\n",
    "# Sanity check\n",
    "check_missing()"
   ]
  },
  {
   "cell_type": "code",
   "execution_count": 22,
   "id": "72a79951-2705-4bdc-9afb-1c13ab8af933",
   "metadata": {},
   "outputs": [
    {
     "name": "stdout",
     "output_type": "stream",
     "text": [
      "============================================================\n",
      "MISSING VALUE DETECTION\n",
      "============================================================\n",
      "ca          611\n",
      "thal        486\n",
      "slope       309\n",
      "fbs          90\n",
      "oldpeak      62\n",
      "trestbps     59\n",
      "age           0\n",
      "sex           0\n",
      "cp            0\n",
      "chol          0\n",
      "restecg       0\n",
      "thalch        0\n",
      "exang         0\n",
      "num           0\n",
      "dtype: int64\n"
     ]
    }
   ],
   "source": [
    "# Impute thalch with median of the feature\n",
    "df[\"thalch\"] = df[\"thalch\"].fillna(df[\"thalch\"].median())\n",
    "# Sanity check\n",
    "check_missing()"
   ]
  },
  {
   "cell_type": "code",
   "execution_count": 23,
   "id": "dae340d3-18f3-46b8-9563-e1b5d42e6d2f",
   "metadata": {},
   "outputs": [
    {
     "name": "stdout",
     "output_type": "stream",
     "text": [
      "============================================================\n",
      "MISSING VALUE DETECTION\n",
      "============================================================\n",
      "ca          611\n",
      "thal        486\n",
      "slope       309\n",
      "fbs          90\n",
      "age           0\n",
      "sex           0\n",
      "cp            0\n",
      "trestbps      0\n",
      "chol          0\n",
      "restecg       0\n",
      "thalch        0\n",
      "exang         0\n",
      "oldpeak       0\n",
      "num           0\n",
      "dtype: int64\n"
     ]
    }
   ],
   "source": [
    "# Impute trestbps and oldpeak with median of the feature\n",
    "df[\"trestbps\"] = df[\"trestbps\"].fillna(df[\"trestbps\"].median())\n",
    "df[\"oldpeak\"] = df[\"oldpeak\"].fillna(df[\"oldpeak\"].median())\n",
    "# Sanity check\n",
    "check_missing()"
   ]
  },
  {
   "cell_type": "code",
   "execution_count": 24,
   "id": "3a9c4f9e-6f2a-4a5d-a336-7ca6c3c1e62f",
   "metadata": {},
   "outputs": [
    {
     "name": "stdout",
     "output_type": "stream",
     "text": [
      "============================================================\n",
      "MISSING VALUE DETECTION\n",
      "============================================================\n",
      "ca          611\n",
      "thal        486\n",
      "slope       309\n",
      "age           0\n",
      "sex           0\n",
      "cp            0\n",
      "trestbps      0\n",
      "chol          0\n",
      "fbs           0\n",
      "restecg       0\n",
      "thalch        0\n",
      "exang         0\n",
      "oldpeak       0\n",
      "num           0\n",
      "dtype: int64\n"
     ]
    }
   ],
   "source": [
    "# Impute fbs(fasting blood sugar) with most present value(mode)\n",
    "df[\"fbs\"] = df[\"fbs\"].fillna(df[\"fbs\"].mode()[0])\n",
    "# Sanity check\n",
    "check_missing()"
   ]
  },
  {
   "cell_type": "code",
   "execution_count": 25,
   "id": "4adfd80c-dccb-418d-9c08-a8487d0ab76e",
   "metadata": {},
   "outputs": [
    {
     "name": "stdout",
     "output_type": "stream",
     "text": [
      "============================================================\n",
      "MISSING VALUE DETECTION\n",
      "============================================================\n",
      "No missing value present in any feature\n"
     ]
    }
   ],
   "source": [
    "#  Impute ca, thal and slope using MICE (Multiple Imputation by Chained Equations)\n",
    "\n",
    "# Features with missing values\n",
    "categorical_features = ['slope', 'thal']\n",
    "\n",
    "# Encode categorical features with LabelEncoder\n",
    "encoders = {}\n",
    "for feature in categorical_features:\n",
    "    le = LabelEncoder()\n",
    "    df[feature] = df[feature].fillna(\"-1\").astype(\"str\")  # Placeholder for missing values\n",
    "    df[feature] = le.fit_transform(df[feature])\n",
    "    encoders[feature] = le  # Store encoder for later decoding\n",
    "# Initialize IterativeImputer\n",
    "imputer = IterativeImputer(max_iter=50, random_state=42, estimator= RandomForestRegressor())\n",
    "\n",
    "# Fit and transform the imputer for selected features\n",
    "df[['slope', 'ca', 'thal']] = imputer.fit_transform(df[['slope', 'ca', 'thal']])\n",
    "\n",
    "# Decode the imputed values back to original categories\n",
    "for feature in categorical_features:\n",
    "    le = encoders[feature]\n",
    "    df[feature] = df[feature].round().astype(int)  # Round to nearest integer\n",
    "    df[feature] = le.inverse_transform(df[feature])\n",
    "\n",
    "# Sanity check\n",
    "check_missing()"
   ]
  },
  {
   "cell_type": "code",
   "execution_count": 26,
   "id": "51f5701c-0409-4784-ad86-b51483118f01",
   "metadata": {},
   "outputs": [],
   "source": [
    "# Save the cleaned data\n",
    "cleaned_path = os.path.join(data_path, \"hd_uci_cleaned.csv\")\n",
    "df.to_csv(cleaned_path, index= False)"
   ]
  },
  {
   "cell_type": "code",
   "execution_count": 15,
   "id": "722e31cf-a827-4ab0-8ea3-5c9fd9075d76",
   "metadata": {},
   "outputs": [
    {
     "name": "stdout",
     "output_type": "stream",
     "text": [
      "============================================================\n",
      "DATA DESCRIPTION\n",
      "============================================================\n",
      "Number of observations: 309\n",
      "Number of features: 14\n",
      "============================================================\n",
      "MISSING VALUE DETECTION\n",
      "============================================================\n",
      "thal        10\n",
      "fbs          5\n",
      "slope        3\n",
      "chol         1\n",
      "age          0\n",
      "sex          0\n",
      "cp           0\n",
      "trestbps     0\n",
      "restecg      0\n",
      "thalch       0\n",
      "exang        0\n",
      "oldpeak      0\n",
      "ca           0\n",
      "num          0\n",
      "dtype: int64\n"
     ]
    }
   ],
   "source": [
    "# Drop the rows containing missing value in ca\n",
    "df.dropna(subset=[\"ca\"], inplace= True)\n",
    "\n",
    "# Sanity check\n",
    "describe_data()\n",
    "check_missing()"
   ]
  },
  {
   "cell_type": "code",
   "execution_count": 16,
   "id": "f0a698ef-6a13-4efc-bb65-b63cb41b6c10",
   "metadata": {},
   "outputs": [
    {
     "name": "stdout",
     "output_type": "stream",
     "text": [
      "============================================================\n",
      "DATA DESCRIPTION\n",
      "============================================================\n",
      "Number of observations: 299\n",
      "Number of features: 14\n",
      "============================================================\n",
      "MISSING VALUE DETECTION\n",
      "============================================================\n",
      "No missing value present in any feature\n"
     ]
    }
   ],
   "source": [
    "# Drop the rows containing missing value in ca\n",
    "df.dropna(subset=[\"thal\"], inplace= True)\n",
    "\n",
    "# Sanity check\n",
    "describe_data()\n",
    "check_missing()"
   ]
  },
  {
   "cell_type": "code",
   "execution_count": 17,
   "id": "59adc1f9-fc69-4480-bd1a-1b85c4a69551",
   "metadata": {},
   "outputs": [],
   "source": [
    "# Save the cleaned data\n",
    "cleaned_path = os.path.join(data_path, \"hd_uci_no_missing.csv\")\n",
    "df.to_csv(cleaned_path, index= False)"
   ]
  },
  {
   "cell_type": "code",
   "execution_count": null,
   "id": "8f6fb3d4-b499-4ac0-9f19-9ae50ff9225e",
   "metadata": {},
   "outputs": [],
   "source": []
  }
 ],
 "metadata": {
  "kernelspec": {
   "display_name": "Python 3 (ipykernel)",
   "language": "python",
   "name": "python3"
  },
  "language_info": {
   "codemirror_mode": {
    "name": "ipython",
    "version": 3
   },
   "file_extension": ".py",
   "mimetype": "text/x-python",
   "name": "python",
   "nbconvert_exporter": "python",
   "pygments_lexer": "ipython3",
   "version": "3.11.5"
  },
  "widgets": {
   "application/vnd.jupyter.widget-state+json": {
    "state": {},
    "version_major": 2,
    "version_minor": 0
   }
  }
 },
 "nbformat": 4,
 "nbformat_minor": 5
}
